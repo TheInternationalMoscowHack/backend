{
  "nbformat": 4,
  "nbformat_minor": 0,
  "metadata": {
    "colab": {
      "name": "mos_parsing.ipynb",
      "provenance": [],
      "collapsed_sections": []
    },
    "kernelspec": {
      "name": "python3",
      "display_name": "Python 3"
    },
    "language_info": {
      "name": "python"
    }
  },
  "cells": [
    {
      "cell_type": "code",
      "metadata": {
        "id": "WhgbCYmQSayf"
      },
      "source": [
        "import requests\n",
        "from datetime import datetime as dt\n",
        "page_size = 100\n",
        "today = int(dt.today().timestamp())\n"
      ],
      "execution_count": 1,
      "outputs": []
    },
    {
      "cell_type": "code",
      "metadata": {
        "id": "if1gMTGLVckC"
      },
      "source": [
        "fields_list = ['id', 'title', 'label', 'date_from', 'date_to', 'kind',\n",
        "              'free', 'text', 'restriction', 'status', 'organizations',\n",
        "               'spheres', 'auditories', 'themes', 'areas',\n",
        "               'districts', 'spot', 'place_type_id', 'place_types', 'foundation',\n",
        "               'lon', 'lat', 'status', 'image'] # \n",
        "fields = \",\".join(fields_list)\n",
        "filter = '{}' # '{\"<=occurrences.date_from\":\"2022-06-27+23:59:59\",\">=occurrences.date_from\":\"2020-05-27+00:00:00\"}'\n",
        "page_size = 2\n",
        "page=1\n",
        "sort = 'occurrences.date_to,-occurrences.date_from'\n",
        "link = 'https://www.mos.ru/api/newsfeed/v4/frontend/json/ru/afisha?expand=place_types,spheres,themes,districts,areas,foundations,spots&fields={}&filter={}&per-page={}&sort={}&page={}'.format(\n",
        "    fields, filter, page_size, sort, page)\n",
        "r = requests.get(link)"
      ],
      "execution_count": 100,
      "outputs": []
    },
    {
      "cell_type": "code",
      "metadata": {
        "id": "saGoIrDcWpT0"
      },
      "source": [
        "def read_data(link, page=1):\n",
        "    r = requests.get('{}&page={}'.format(link, page))\n",
        "    if r.status_code == 200:\n",
        "        if r.json()['_meta']['currentPage'] == r.json()['_meta']['pageCount']:\n",
        "            return r.json()['items']\n",
        "        return r.json()['items'] + read_data(link, page + 1)\n",
        "    print('bad_status: {}'.format(r.status_code))\n",
        "    return []\n",
        "link = 'https://www.mos.ru/api/newsfeed/v4/frontend/json/ru/afisha?expand=spheres,themes,districts,areas,foundations,spots&fields={}&filter={}&per-page={}&sort={}'.format(\n",
        "        fields, filter, page_size, sort)\n",
        "result = read_data(link)"
      ],
      "execution_count": 101,
      "outputs": []
    },
    {
      "cell_type": "code",
      "metadata": {
        "colab": {
          "base_uri": "https://localhost:8080/"
        },
        "id": "mkMjBrL2pgA9",
        "outputId": "f27ef5bb-1822-446d-822a-e37baa7281f3"
      },
      "source": [
        "len(result)"
      ],
      "execution_count": 5,
      "outputs": [
        {
          "output_type": "execute_result",
          "data": {
            "text/plain": [
              "1054"
            ]
          },
          "metadata": {
            "tags": []
          },
          "execution_count": 5
        }
      ]
    },
    {
      "cell_type": "code",
      "metadata": {
        "colab": {
          "base_uri": "https://localhost:8080/",
          "height": 70
        },
        "id": "6wxRCdA__I5l",
        "outputId": "721513cf-fdef-4c8f-ae3e-33d773dbc10d"
      },
      "source": [
        "\"\"\"\n",
        "+ title\n",
        "+ text\n",
        "+ status\n",
        "+ image\n",
        "- price_from (free)\n",
        "- price_to\n",
        "+ date_from\n",
        "+ date_to\n",
        "+ restriction\n",
        "- id территор. признаков\n",
        "+ id района\n",
        "+ id учреждения / площадки\n",
        "+ id тип мероприятия\n",
        "+ id темы\n",
        "\"\"\""
      ],
      "execution_count": 6,
      "outputs": [
        {
          "output_type": "execute_result",
          "data": {
            "application/vnd.google.colaboratory.intrinsic+json": {
              "type": "string"
            },
            "text/plain": [
              "'\\n+ title\\n+ text\\n+ status\\n+ image\\n- price_from (free)\\n- price_to\\n+ date_from\\n+ date_to\\n+ restriction\\n- id территор. признаков\\n+ id района\\n+ id учреждения / площадки\\n+ id тип мероприятия\\n+ id темы\\n'"
            ]
          },
          "metadata": {
            "tags": []
          },
          "execution_count": 6
        }
      ]
    },
    {
      "cell_type": "code",
      "metadata": {
        "colab": {
          "base_uri": "https://localhost:8080/"
        },
        "id": "n_ehdMFk5DTp",
        "outputId": "2bc0406d-ace3-4c58-86aa-0a0f03ca6880"
      },
      "source": [
        "result[0]"
      ],
      "execution_count": 7,
      "outputs": [
        {
          "output_type": "execute_result",
          "data": {
            "text/plain": [
              "{'date_from': '2021-06-29 14:00:00',\n",
              " 'date_to': '2021-06-29 21:30:00',\n",
              " 'districts': [{'area_ids': [63501], 'id': 5500}],\n",
              " 'free': 0,\n",
              " 'id': 98016257,\n",
              " 'kind': {'id': 'afisha', 'title': 'События афиши', 'type': 48},\n",
              " 'label': None,\n",
              " 'organizations': [12585090],\n",
              " 'restriction': {'age': 12},\n",
              " 'spheres': [{'activated': 1,\n",
              "   'id': 80299,\n",
              "   'priority': 0,\n",
              "   'special': 0,\n",
              "   'title': 'Спектакли'}],\n",
              " 'spots': [{'address': 'Улица Сущевский Вал, дом 10а, строение 2',\n",
              "   'created_at': '2021-04-23 15:13:17',\n",
              "   'created_at_timestamp': 1619179997,\n",
              "   'ebs_id': 273949,\n",
              "   'ebs_title': 'Сущёвский Вал ул., 10А, строение 2',\n",
              "   'foundation_id': 40211,\n",
              "   'id': 213210,\n",
              "   'lat': '55.79013',\n",
              "   'lon': '37.594144',\n",
              "   'place_type_id': 33085,\n",
              "   'title': 'Улица Сущевский Вал, дом 10а, строение 2',\n",
              "   'updated_at': '2021-05-20 19:26:30',\n",
              "   'updated_at_timestamp': 1621527990}],\n",
              " 'status': 'public',\n",
              " 'text': '<p>Молодые актеры театра-студии &laquo;Три ступени&raquo; покажут спектакль &laquo;Прометей прикованный&raquo; по пьесе древнегреческого драматурга Эсхила. Дарья Кабанова, режиссер постановки, предлагает зрителям взглянуть на поступки Прометея с непривычной точки зрения.</p>',\n",
              " 'themes': [],\n",
              " 'title': '«Прометей прикованный» в культурном центре «Новослободский»'}"
            ]
          },
          "metadata": {
            "tags": []
          },
          "execution_count": 7
        }
      ]
    },
    {
      "cell_type": "code",
      "metadata": {
        "colab": {
          "base_uri": "https://localhost:8080/"
        },
        "id": "ueX20-pw5Edz",
        "outputId": "4e3b83bf-10a1-4b98-eb8e-7125db886f69"
      },
      "source": [
        "from google.colab import drive\n",
        "drive.mount('/content/MyDrive/')"
      ],
      "execution_count": 8,
      "outputs": [
        {
          "output_type": "stream",
          "text": [
            "Mounted at /content/MyDrive/\n"
          ],
          "name": "stdout"
        }
      ]
    },
    {
      "cell_type": "code",
      "metadata": {
        "id": "Hs51prLrAhht"
      },
      "source": [
        "import json\n",
        "events = result"
      ],
      "execution_count": 11,
      "outputs": []
    },
    {
      "cell_type": "code",
      "metadata": {
        "id": "vfG17ZVSA8Em"
      },
      "source": [
        "with open('MyDrive/MyDrive/data.json', 'w') as f:\n",
        "    json.dump(result, f)"
      ],
      "execution_count": 10,
      "outputs": []
    },
    {
      "cell_type": "markdown",
      "metadata": {
        "id": "usbgLbYcP9dA"
      },
      "source": [
        "Нужны данные по:\n",
        "- темы\n",
        "- районы \n",
        "- сферы\n",
        "-spots\n",
        "-place_types"
      ]
    },
    {
      "cell_type": "code",
      "metadata": {
        "id": "iNJe2kWBQebl"
      },
      "source": [
        "district = {1500: 'Цетральный',\n",
        "            2500: 'Южный',\n",
        "            3500: 'Северный', \n",
        "            4500: 'Юго-Западный',\n",
        "            5500: 'Северо-Восточный',\n",
        "            6500: 'Западный',\n",
        "            7500: 'Восточный',\n",
        "            8500: 'Северо-Восточный',\n",
        "            9500: 'Юго-Восточный',\n",
        "            10500: 'Зеленоградский',\n",
        "            11500: 'Троицкий и Новомосковский',\n",
        "            12500: 'Московская область'}"
      ],
      "execution_count": 13,
      "outputs": []
    },
    {
      "cell_type": "code",
      "metadata": {
        "id": "idndQfdfSRwo"
      },
      "source": [
        "link = 'https://www.mos.ru/api/newsfeed/v4/frontend/json/ru/afisha?expand=place_types,spheres,themes,districts,areas,foundations,spots&fields={}&filter={}&per-page={}&sort={}&page={}'.format(\n"
      ],
      "execution_count": null,
      "outputs": []
    },
    {
      "cell_type": "code",
      "metadata": {
        "id": "xOK29ZHdP9If"
      },
      "source": [
        "link = 'https://www.mos.ru/api/newsfeed/v4/frontend/json'\n"
      ],
      "execution_count": 66,
      "outputs": []
    },
    {
      "cell_type": "code",
      "metadata": {
        "id": "d6j0B14-TRou"
      },
      "source": [
        "def get_themes(link, lib, is_ru=True, page=1):\n",
        "    suffix = ''\n",
        "    if is_ru:\n",
        "        suffix = '/ru'\n",
        "    req = \"{}{}/{}?page={}\".format(link, suffix, lib, page)\n",
        "    r = requests.get(req)\n",
        "    if r.status_code == 200:\n",
        "        if r.json()['_meta']['currentPage'] == r.json()['_meta']['pageCount']:\n",
        "            return r.json()['items']\n",
        "        return r.json()['items'] + get_themes(link, lib, is_ru=is_ru, page=page+1)\n",
        "    return []"
      ],
      "execution_count": 62,
      "outputs": []
    },
    {
      "cell_type": "code",
      "metadata": {
        "colab": {
          "base_uri": "https://localhost:8080/"
        },
        "id": "nMkjuJhAR7w6",
        "outputId": "8dec84d2-2047-4287-93c7-658af1985748"
      },
      "source": [
        "link = 'https://www.mos.ru/api/newsfeed/v4/frontend/json'\n",
        "\n",
        "themes = get_themes(link, 'themes')\n",
        "spheres = get_themes(link, 'spheres')\n",
        "spots = get_themes(link, 'spot')\n",
        "\n",
        "link = 'https://www.mos.ru/api/newsfeed/v4/frontend/json'\n",
        "suffix = '/ru'\n",
        "lib = 'afisha/place_types'\n",
        "req = \"{}{}/{}?page={}\".format(link, suffix, lib, 1)\n",
        "r = requests.get(req)\n",
        "places = r.json()\n",
        "\n",
        "link = 'https://www.mos.ru/api/directories/v2/frontend/json/territory'\n",
        "areas = get_themes(link, 'areas', False)\n",
        "\n",
        "for i in [areas, places, spots, spheres, themes, district, events]:\n",
        "    print(len(i))"
      ],
      "execution_count": 92,
      "outputs": [
        {
          "output_type": "stream",
          "text": [
            "146\n",
            "1\n",
            "1968\n",
            "56\n",
            "71\n",
            "12\n",
            "1054\n"
          ],
          "name": "stdout"
        }
      ]
    },
    {
      "cell_type": "code",
      "metadata": {
        "colab": {
          "base_uri": "https://localhost:8080/",
          "height": 35
        },
        "id": "LrPfKEd1dOob",
        "outputId": "288e9166-608b-4624-b0c8-ce26ca0af6a7"
      },
      "source": [
        "a = {'question': ['possible_answers', '1']}\n",
        "list(a.values())[0][0]"
      ],
      "execution_count": 98,
      "outputs": [
        {
          "output_type": "execute_result",
          "data": {
            "application/vnd.google.colaboratory.intrinsic+json": {
              "type": "string"
            },
            "text/plain": [
              "'possible_answers'"
            ]
          },
          "metadata": {
            "tags": []
          },
          "execution_count": 98
        }
      ]
    },
    {
      "cell_type": "code",
      "metadata": {
        "id": "q77MFRK_YpJp"
      },
      "source": [
        ""
      ],
      "execution_count": 90,
      "outputs": []
    },
    {
      "cell_type": "code",
      "metadata": {
        "colab": {
          "base_uri": "https://localhost:8080/"
        },
        "id": "KiWBFsLHfabq",
        "outputId": "ddf636b1-bf97-4f03-9387-04cb71532384"
      },
      "source": [
        ""
      ],
      "execution_count": 91,
      "outputs": [
        {
          "output_type": "execute_result",
          "data": {
            "text/plain": [
              "{'items': [{'id': 32085, 'sort': 9000, 'title': 'ВДНХ'},\n",
              "  {'id': 27085, 'sort': 13000, 'title': 'Библиотеки'},\n",
              "  {'id': 1085, 'sort': 15000, 'title': 'Театры'},\n",
              "  {'id': 2085, 'sort': 17000, 'title': 'Парки'},\n",
              "  {'id': 3085, 'sort': 19000, 'title': 'Музеи'},\n",
              "  {'id': 4085, 'sort': 21000, 'title': 'Выставочные залы'},\n",
              "  {'id': 5085, 'sort': 23000, 'title': 'Концертные залы'},\n",
              "  {'id': 6085, 'sort': 25000, 'title': 'Спортивные объекты'},\n",
              "  {'id': 7085, 'sort': 27000, 'title': 'Образовательные объекты'},\n",
              "  {'id': 8085,\n",
              "   'sort': 29000,\n",
              "   'title': 'Городское (общественное) пространство'},\n",
              "  {'id': 9085, 'sort': 31000, 'title': 'Кинотеатры'},\n",
              "  {'id': 10085, 'sort': 33000, 'title': 'Интернет'},\n",
              "  {'id': 33085, 'sort': 34000, 'title': 'Культурные центры'},\n",
              "  {'id': 31085, 'sort': 35000, 'title': 'Дом культуры'},\n",
              "  {'id': 11085, 'sort': 36000, 'title': 'Катки'},\n",
              "  {'id': 13085, 'sort': 38000, 'title': 'Другое'}]}"
            ]
          },
          "metadata": {
            "tags": []
          },
          "execution_count": 91
        }
      ]
    },
    {
      "cell_type": "code",
      "metadata": {
        "id": "DpLMguczfaN0"
      },
      "source": [
        "with open(os.path.join(path, 'events.json'), 'w') as f:\n",
        "    json.dump(result, f)"
      ],
      "execution_count": 105,
      "outputs": []
    },
    {
      "cell_type": "code",
      "metadata": {
        "id": "ojBSSb34ZXis"
      },
      "source": [
        "path = 'MyDrive/MyDrive/mos.ru jsons'\n",
        "import os\n",
        "with open(os.path.join(path, 'areas.json'), 'w') as f:\n",
        "    json.dump(areas, f)\n",
        "with open(os.path.join(path, 'places.json'), 'w') as f:\n",
        "    json.dump(places, f)\n",
        "with open(os.path.join(path, 'spots.json'), 'w') as f:\n",
        "    json.dump(spots, f)\n",
        "with open(os.path.join(path, 'spheres.json'), 'w') as f:\n",
        "    json.dump(spheres, f)\n",
        "with open(os.path.join(path, 'themes.json'), 'w') as f:\n",
        "    json.dump(themes, f)\n",
        "with open(os.path.join(path, 'district.json'), 'w') as f:\n",
        "    json.dump(district, f)\n",
        "with open(os.path.join(path, 'events.json'), 'w') as f:\n",
        "    json.dump(events, f)"
      ],
      "execution_count": 95,
      "outputs": []
    },
    {
      "cell_type": "code",
      "metadata": {
        "id": "wZqMTDU7R9X7"
      },
      "source": [
        "link = 'https://www.mos.ru/api/newsfeed/v4/frontend/json/ru/spheres?per-page=50'\n",
        "r = requests.get(link)\n"
      ],
      "execution_count": 86,
      "outputs": []
    },
    {
      "cell_type": "code",
      "metadata": {
        "id": "GLs6P5McWLef"
      },
      "source": [
        "with open(os.path.join(path, 'events.json'), 'r') as f:\n",
        "    res = json.load(f)"
      ],
      "execution_count": 106,
      "outputs": []
    },
    {
      "cell_type": "code",
      "metadata": {
        "colab": {
          "base_uri": "https://localhost:8080/"
        },
        "id": "AMxJT8oFfOn3",
        "outputId": "547da846-c814-4149-81e2-d03f58f0572f"
      },
      "source": [
        "res[0]"
      ],
      "execution_count": 107,
      "outputs": [
        {
          "output_type": "execute_result",
          "data": {
            "text/plain": [
              "{'date_from': '2021-06-29 14:00:00',\n",
              " 'date_to': '2021-06-29 21:30:00',\n",
              " 'districts': [{'area_ids': [63501], 'id': 5500}],\n",
              " 'free': 0,\n",
              " 'id': 98016257,\n",
              " 'image': {'1x1_m': {'height': 800,\n",
              "   'id': 3173004281,\n",
              "   'src': '/upload/newsfeed/afisha/imagesWRpb1x(3)(7).jpg',\n",
              "   'title': None,\n",
              "   'type': '1x1_m',\n",
              "   'width': 800},\n",
              "  '1x1_s': {'height': 480,\n",
              "   'id': 3173005281,\n",
              "   'src': '/upload/newsfeed/afisha/imagesWRpb1x(3)(16).jpg',\n",
              "   'title': None,\n",
              "   'type': '1x1_s',\n",
              "   'width': 480},\n",
              "  '2x1_b': {'height': 800,\n",
              "   'id': 3173006281,\n",
              "   'src': '/upload/newsfeed/afisha/imagesWRpb1x(3)(3).jpg',\n",
              "   'title': None,\n",
              "   'type': '2x1_b',\n",
              "   'width': 1600},\n",
              "  '2x1_m': {'height': 400,\n",
              "   'id': 3173007281,\n",
              "   'src': '/upload/newsfeed/afisha/imagesWRpb1x(3)(2).jpg',\n",
              "   'title': None,\n",
              "   'type': '2x1_m',\n",
              "   'width': 800},\n",
              "  '2x1_s': {'height': 240,\n",
              "   'id': 3173008281,\n",
              "   'src': '/upload/newsfeed/afisha/imagesWRpb1x(3)(15).jpg',\n",
              "   'title': None,\n",
              "   'type': '2x1_s',\n",
              "   'width': 480},\n",
              "  '3x1_b': {'height': 533,\n",
              "   'id': 3173009281,\n",
              "   'src': '/upload/newsfeed/afisha/imagesWRpb1x(3)(8).jpg',\n",
              "   'title': None,\n",
              "   'type': '3x1_b',\n",
              "   'width': 1599},\n",
              "  '3x1_m': {'height': 266,\n",
              "   'id': 3173010281,\n",
              "   'src': '/upload/newsfeed/afisha/imagesWRpb1x(3)(14).jpg',\n",
              "   'title': None,\n",
              "   'type': '3x1_m',\n",
              "   'width': 798},\n",
              "  '3x1_s': {'height': 160,\n",
              "   'id': 3173011281,\n",
              "   'src': '/upload/newsfeed/afisha/imagesWRpb1x(3)(13).jpg',\n",
              "   'title': None,\n",
              "   'type': '3x1_s',\n",
              "   'width': 480},\n",
              "  '4x1_b': {'height': 400,\n",
              "   'id': 3173012281,\n",
              "   'src': '/upload/newsfeed/afisha/imagesWRpb1x(3)(11).jpg',\n",
              "   'title': None,\n",
              "   'type': '4x1_b',\n",
              "   'width': 1600},\n",
              "  '4x1_m': {'height': 200,\n",
              "   'id': 3173013281,\n",
              "   'src': '/upload/newsfeed/afisha/imagesWRpb1x(3)(5).jpg',\n",
              "   'title': None,\n",
              "   'type': '4x1_m',\n",
              "   'width': 800},\n",
              "  '4x1_s': {'height': 120,\n",
              "   'id': 3173014281,\n",
              "   'src': '/upload/newsfeed/afisha/imagesWRpb1x(3).jpg',\n",
              "   'title': None,\n",
              "   'type': '4x1_s',\n",
              "   'width': 480},\n",
              "  'big': {'height': 877,\n",
              "   'id': 3173000281,\n",
              "   'src': '/upload/newsfeed/afisha/imagesWRpb1x(3)(1).jpg',\n",
              "   'title': None,\n",
              "   'type': 'big',\n",
              "   'width': 1600},\n",
              "  'copyright': None,\n",
              "  'download': {'height': 968,\n",
              "   'id': 3173001281,\n",
              "   'src': '/upload/newsfeed/afisha/imagesWRpb1x(3)(10).jpg',\n",
              "   'title': None,\n",
              "   'type': 'download',\n",
              "   'width': 1766},\n",
              "  'id': 3172801281,\n",
              "  'middle': {'height': 439,\n",
              "   'id': 3172999281,\n",
              "   'src': '/upload/newsfeed/afisha/imagesWRpb1x(3)(6).jpg',\n",
              "   'title': None,\n",
              "   'type': 'middle',\n",
              "   'width': 800},\n",
              "  'original': {'height': 968,\n",
              "   'id': 3172801281,\n",
              "   'src': '/upload/newsfeed/events/imagesWRpb1x(3).jpg',\n",
              "   'title': None,\n",
              "   'type': 'original',\n",
              "   'width': 1766},\n",
              "  'show': {'height': 658,\n",
              "   'id': 3173003281,\n",
              "   'src': '/upload/newsfeed/afisha/imagesWRpb1x(3)(12).jpg',\n",
              "   'title': None,\n",
              "   'type': 'show',\n",
              "   'width': 1200},\n",
              "  'small': {'height': 263,\n",
              "   'id': 3172998281,\n",
              "   'src': '/upload/newsfeed/afisha/imagesWRpb1x(3)(4).jpg',\n",
              "   'title': None,\n",
              "   'type': 'small',\n",
              "   'width': 480},\n",
              "  'thumb': {'height': 219,\n",
              "   'id': 3173002281,\n",
              "   'src': '/upload/newsfeed/afisha/imagesWRpb1x(3)(9).jpg',\n",
              "   'title': None,\n",
              "   'type': 'thumb',\n",
              "   'width': 400},\n",
              "  'title': None},\n",
              " 'kind': {'id': 'afisha', 'title': 'События афиши', 'type': 48},\n",
              " 'label': None,\n",
              " 'organizations': [12585090],\n",
              " 'restriction': {'age': 12},\n",
              " 'spheres': [{'activated': 1,\n",
              "   'id': 80299,\n",
              "   'priority': 0,\n",
              "   'special': 0,\n",
              "   'title': 'Спектакли'}],\n",
              " 'spots': [{'address': 'Улица Сущевский Вал, дом 10а, строение 2',\n",
              "   'created_at': '2021-04-23 15:13:17',\n",
              "   'created_at_timestamp': 1619179997,\n",
              "   'ebs_id': 273949,\n",
              "   'ebs_title': 'Сущёвский Вал ул., 10А, строение 2',\n",
              "   'foundation_id': 40211,\n",
              "   'id': 213210,\n",
              "   'lat': '55.79013',\n",
              "   'lon': '37.594144',\n",
              "   'place_type_id': 33085,\n",
              "   'title': 'Улица Сущевский Вал, дом 10а, строение 2',\n",
              "   'updated_at': '2021-05-20 19:26:30',\n",
              "   'updated_at_timestamp': 1621527990}],\n",
              " 'status': 'public',\n",
              " 'text': '<p>Молодые актеры театра-студии &laquo;Три ступени&raquo; покажут спектакль &laquo;Прометей прикованный&raquo; по пьесе древнегреческого драматурга Эсхила. Дарья Кабанова, режиссер постановки, предлагает зрителям взглянуть на поступки Прометея с непривычной точки зрения.</p>',\n",
              " 'themes': [],\n",
              " 'title': '«Прометей прикованный» в культурном центре «Новослободский»'}"
            ]
          },
          "metadata": {
            "tags": []
          },
          "execution_count": 107
        }
      ]
    },
    {
      "cell_type": "code",
      "metadata": {
        "id": "3wtAtmX-FEm8"
      },
      "source": [
        ""
      ],
      "execution_count": null,
      "outputs": []
    }
  ]
}