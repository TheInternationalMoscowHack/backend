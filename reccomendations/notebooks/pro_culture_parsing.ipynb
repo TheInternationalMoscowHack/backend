{
  "nbformat": 4,
  "nbformat_minor": 0,
  "metadata": {
    "colab": {
      "name": "pro_culture_parsing.ipynb",
      "provenance": [],
      "collapsed_sections": []
    },
    "kernelspec": {
      "name": "python3",
      "display_name": "Python 3"
    },
    "language_info": {
      "name": "python"
    }
  },
  "cells": [
    {
      "cell_type": "markdown",
      "metadata": {
        "id": "O6GYNtwv1ng0"
      },
      "source": [
        "Парсим дынные московский ивентов с сайта \n",
        "pro.culture.ru"
      ]
    },
    {
      "cell_type": "code",
      "metadata": {
        "colab": {
          "base_uri": "https://localhost:8080/"
        },
        "id": "cG7SJ69S1Cmp",
        "outputId": "81a263b2-96b2-4faf-e225-45dd58d5b8ec"
      },
      "source": [
        "!pip install pandas numpy lxml bs4 requests"
      ],
      "execution_count": 1,
      "outputs": [
        {
          "output_type": "stream",
          "text": [
            "Requirement already satisfied: pandas in /usr/local/lib/python3.7/dist-packages (1.1.5)\n",
            "Requirement already satisfied: numpy in /usr/local/lib/python3.7/dist-packages (1.19.5)\n",
            "Requirement already satisfied: lxml in /usr/local/lib/python3.7/dist-packages (4.2.6)\n",
            "Requirement already satisfied: bs4 in /usr/local/lib/python3.7/dist-packages (0.0.1)\n",
            "Requirement already satisfied: requests in /usr/local/lib/python3.7/dist-packages (2.23.0)\n",
            "Requirement already satisfied: python-dateutil>=2.7.3 in /usr/local/lib/python3.7/dist-packages (from pandas) (2.8.1)\n",
            "Requirement already satisfied: pytz>=2017.2 in /usr/local/lib/python3.7/dist-packages (from pandas) (2018.9)\n",
            "Requirement already satisfied: beautifulsoup4 in /usr/local/lib/python3.7/dist-packages (from bs4) (4.6.3)\n",
            "Requirement already satisfied: idna<3,>=2.5 in /usr/local/lib/python3.7/dist-packages (from requests) (2.10)\n",
            "Requirement already satisfied: chardet<4,>=3.0.2 in /usr/local/lib/python3.7/dist-packages (from requests) (3.0.4)\n",
            "Requirement already satisfied: urllib3!=1.25.0,!=1.25.1,<1.26,>=1.21.1 in /usr/local/lib/python3.7/dist-packages (from requests) (1.24.3)\n",
            "Requirement already satisfied: certifi>=2017.4.17 in /usr/local/lib/python3.7/dist-packages (from requests) (2020.12.5)\n",
            "Requirement already satisfied: six>=1.5 in /usr/local/lib/python3.7/dist-packages (from python-dateutil>=2.7.3->pandas) (1.15.0)\n"
          ],
          "name": "stdout"
        }
      ]
    },
    {
      "cell_type": "code",
      "metadata": {
        "id": "j6YF6Yp21kr0"
      },
      "source": [
        "from bs4 import BeautifulSoup\n",
        "import requests as req\n",
        "import time\n",
        "import pandas as pd"
      ],
      "execution_count": 2,
      "outputs": []
    },
    {
      "cell_type": "code",
      "metadata": {
        "id": "_tACIJS1oOKE"
      },
      "source": [
        "def parse_data_heads(html_text):\n",
        "    theme = html_text.find('div', class_='entity-list-v2_label').text\n",
        "    title = html_text.find('div', class_='entity-list-v2_title').text\n",
        "    link = 'https://www.culture.ru{}'.format(html_text.find('a', class_='entity-list-v2_title-link').get('href'))\n",
        "    text = html_text.find('div', class_='entity-list-v2_description')\n",
        "    return {'theme': theme, 'title': title, 'link':link, 'text': text}"
      ],
      "execution_count": 3,
      "outputs": []
    },
    {
      "cell_type": "code",
      "metadata": {
        "id": "1UX6raTF4xhI"
      },
      "source": [
        "data = [None,]\n",
        "result = []\n",
        "page = 1\n",
        "while 1:\n",
        "    link = 'https://www.culture.ru/search?query=%D0%BC%D0%BE%D1%81%D0%BA%D0%B2%D0%B0&page={}&limit=15'.format(page)\n",
        "    resp = req.get(link)\n",
        "\n",
        "    soup = BeautifulSoup(resp.text, 'lxml')\n",
        "    data = soup.find('div', class_='entity-list-v2').findAll('div', class_='js-entity-list-item entity-list-v2_item')\n",
        "    if len(data) == 0:\n",
        "        break\n",
        "    data_parse = [parse_data_heads(i) for i in data]\n",
        "    result.extend(data_parse)\n",
        "    page += 1"
      ],
      "execution_count": 30,
      "outputs": []
    },
    {
      "cell_type": "code",
      "metadata": {
        "colab": {
          "base_uri": "https://localhost:8080/"
        },
        "id": "88isxdwkvl0H",
        "outputId": "b4953ea6-e26c-434c-9651-ed92e3a2f40b"
      },
      "source": [
        "from time import sleep\n",
        "res = []\n",
        "for i in range(len(result)):\n",
        "    sleep(1)\n",
        "    data = result[i]\n",
        "    link = result[i]['link']\n",
        "    try:\n",
        "        resp = req.get(link)\n",
        "    except:\n",
        "        print(\"Error_link: {} link: {}\".format(i, link))\n",
        "        continue\n",
        "    soup = BeautifulSoup(resp.text, 'lxml')\n",
        "    try:\n",
        "        if soup.find('div', class_='institute-poster') is None:\n",
        "            data['image'] = soup.find('div', class_='cover_image-bg').get('style').split('(')[-1][:-1]\n",
        "        else:\n",
        "            data['image'] = soup.find(\n",
        "                'div', class_='institute-poster'\n",
        "                ).find('img').get('src')\n",
        "    except:\n",
        "        print(\"Error_img: {} link: {}\".format(i, link))\n",
        "        continue\n",
        "    if soup.find('div', class_='institute-poster_place') is None:\n",
        "        data['adress'] = None\n",
        "    else:\n",
        "        data['adress'] = soup.find('div', class_='institute-poster_place').find('a').text\n",
        "    res.append(data)\n"
      ],
      "execution_count": 31,
      "outputs": [
        {
          "output_type": "stream",
          "text": [
            "Error_img: 311 link: https://www.culture.ru/institutes/14187/arkhangelskoe-tyurikovo\n",
            "Error_img: 421 link: https://www.culture.ru/institutes/14255/zakharino-znamenskoe\n",
            "Error_img: 440 link: https://www.culture.ru/institutes/14144/znamenskoe-sadki\n",
            "Error_img: 447 link: https://www.culture.ru/institutes/14129/chernyovo\n",
            "Error_img: 460 link: https://www.culture.ru/institutes/14373/usadba-g-a-zakharina\n",
            "Error_img: 463 link: https://www.culture.ru/institutes/14344/bolshakovo\n",
            "Error_img: 709 link: https://www.culture.ru/movies/852/moskva\n",
            "Error_img: 710 link: https://www.culture.ru/poems/18487/moskva\n",
            "Error_img: 711 link: https://www.culture.ru/poems/44598/moskva\n",
            "Error_img: 712 link: https://www.culture.ru/poems/23762/moskva\n",
            "Error_img: 713 link: https://www.culture.ru/poems/48157/moskva\n",
            "Error_img: 714 link: https://www.culture.ru/poems/33448/moskva\n",
            "Error_img: 715 link: https://www.culture.ru/poems/24403/moskva\n",
            "Error_img: 716 link: https://www.culture.ru/poems/33640/moya-moskva\n",
            "Error_img: 717 link: https://www.culture.ru/poems/31127/moskva\n",
            "Error_img: 718 link: https://www.culture.ru/poems/41989/moskva\n",
            "Error_img: 719 link: https://www.culture.ru/poems/47425/moskva\n",
            "Error_img: 953 link: https://www.culture.ru/live/broadcast/6731/moskva-doslovno\n",
            "Error_img: 954 link: https://www.culture.ru/live/broadcast/7161/moskva-petushki\n",
            "Error_img: 955 link: https://www.culture.ru/live/broadcast/6991/rossiya-moskva\n",
            "Error_img: 956 link: https://www.culture.ru/live/broadcast/7896/moskva-petushki\n",
            "Error_img: 957 link: https://www.culture.ru/live/broadcast/8320/moskva-doslovno\n",
            "Error_img: 958 link: https://www.culture.ru/live/broadcast/9321/balet-moskva\n",
            "Error_img: 959 link: https://www.culture.ru/live/broadcast/12695/moskva-leningrad\n",
            "Error_img: 960 link: https://www.culture.ru/themes/531/moskva-v-kino\n",
            "Error_img: 961 link: https://www.culture.ru/news/36154/moskva-pasternaka\n",
            "Error_img: 962 link: https://www.culture.ru/news/76063/moskva-prazdnichnaya\n",
            "Error_img: 963 link: https://www.culture.ru/materials/253363/derevyannaya-moskva\n",
            "Error_img: 964 link: https://www.culture.ru/movies/4647/moskva-doslovno\n",
            "Error_img: 965 link: https://www.culture.ru/movies/320/moskva-kassiopeya\n",
            "Error_img: 966 link: https://www.culture.ru/books/127/moskva-pod-udarom\n",
            "Error_img: 967 link: https://www.culture.ru/books/190/moskva-i-moskvichi\n",
            "Error_img: 968 link: https://www.culture.ru/books/490/moskva-rodnaya\n",
            "Error_img: 969 link: https://www.culture.ru/poems/11721/moskva-iz-kernera\n",
            "Error_img: 970 link: https://www.culture.ru/poems/15227/sovetskaya-moskva\n",
            "Error_img: 971 link: https://www.culture.ru/poems/20192/moskva-kenigsberg\n",
            "Error_img: 972 link: https://www.culture.ru/poems/14013/moskva-v-dekabre\n",
            "Error_img: 973 link: https://www.culture.ru/poems/19252/moskva-odessa\n",
            "Error_img: 974 link: https://www.culture.ru/poems/15228/starodavnyaya-moskva\n",
            "Error_img: 975 link: https://www.culture.ru/poems/47755/moskva-svyataya\n",
            "Error_img: 976 link: https://www.culture.ru/poems/42183/gostepriimnaya-moskva\n",
            "Error_img: 977 link: https://www.culture.ru/poems/42182/moskva-trudovaya\n",
            "Error_img: 978 link: https://www.culture.ru/poems/48228/moskva-maiskaya\n",
            "Error_img: 979 link: https://www.culture.ru/poems/38337/moskva-na-vzmore\n",
            "Error_img: 980 link: https://www.culture.ru/poems/29638/govorit-moskva\n",
            "Error_img: 981 link: https://www.culture.ru/poems/33208/raznocvetnaya-moskva\n",
            "Error_img: 982 link: https://www.culture.ru/poems/36044/moskva-kakoi-ogromnyi\n",
            "Error_img: 983 link: https://www.culture.ru/movies/8576/moskva-petushki\n",
            "Error_link: 984 link: https://www.culture.ruhttps://www.culture.ru/s/moskva-kotoroj-ne-bylo/\n",
            "Error_img: 1094 link: https://www.culture.ru/books/223/moskva-slezam-ne-verit\n",
            "Error_img: 1095 link: https://www.culture.ru/news/133137/moskva-pod-obektivami-kinokamer\n",
            "Error_img: 1096 link: https://www.culture.ru/news/222605/moskva-otmechaet-yubilei\n",
            "Error_img: 1097 link: https://www.culture.ru/objects/2630/gostinica-moskva-v-belgrade\n",
            "Error_img: 1098 link: https://www.culture.ru/movies/2724/moskva-slezam-ne-verit\n",
            "Error_img: 1099 link: https://www.culture.ru/poems/19852/ekspress-moskva-varshava\n",
            "Error_img: 1100 link: https://www.culture.ru/poems/15174/nochyu-dremlet-moskva\n",
            "Error_link: 1101 link: https://www.culture.ruhttps://culture.ru/s/vopros/obrazovanie_moskvi\n",
            "Error_img: 1102 link: https://www.culture.ru/poems/47635/zakrutila-menya-zavertela-moskva\n",
            "Error_img: 1103 link: https://www.culture.ru/movies/11252/petr-chaikovskii-kantata-moskva\n",
            "Error_img: 1104 link: https://www.culture.ru/news/80635/moskva-v-kino-a-kino-na-kultura-rf\n",
            "Error_img: 1105 link: https://www.culture.ru/materials/253877/moskva-na-kartinakh-yuriya-pimenova\n",
            "Error_img: 1106 link: https://www.culture.ru/events/675354/virtualnaya-vystavka-moskva-zlatoglavaya\n",
            "Error_img: 1107 link: https://www.culture.ru/events/919766/ekspoziciya-sverdlovsk-govorit-moskva\n",
            "Error_img: 1108 link: https://www.culture.ru/events/1022062/puteshestvie-s-erofeevym-moskva-petushki\n",
            "Error_img: 1109 link: https://www.culture.ru/movies/2924/moskva-bryussel-dialogi-kultur\n",
            "Error_img: 1110 link: https://www.culture.ru/movies/3814/moskva-slezam-ne-verit-s-tiflokommentariyami\n",
            "Error_img: 1111 link: https://www.culture.ru/poems/13522/moskva-nochyu-pri-snegopade\n",
            "Error_img: 1112 link: https://www.culture.ru/poems/18642/moskva-blizko-serdce-vstrepenulos\n",
            "Error_img: 1113 link: https://www.culture.ru/poems/17202/ya-znal-tebya-moskva-eshe-nevzrachno-skromnoi\n",
            "Error_img: 1114 link: https://www.culture.ru/poems/33795/moskva-kakoi-ogromnyi-strannopriimnyi-dom\n",
            "Error_img: 1115 link: https://www.culture.ru/materials/146770/pozhar-1812-goda-moskva-do-i-posle\n",
            "Error_img: 1116 link: https://www.culture.ru/materials/254912/test-kto-vy-iz-filma-moskva-slezam-ne-verit\n",
            "Error_img: 1117 link: https://www.culture.ru/news/254649/moskva-vstretila-vserossiiskii-teatralnyi-marafon\n",
            "Error_img: 1118 link: https://www.culture.ru/objects/1962/moskva-kantata-v-6-ti-chastyakh\n",
            "Error_link: 1119 link: https://www.culture.ruhttps://www.culture.ru/s/vopros/moskva-na-semi-holmakh\n",
            "Error_img: 1120 link: https://www.culture.ru/events/454107/programma-ekskursiya-moskva-iz-proshlogo-v-budushee\n",
            "Error_img: 1121 link: https://www.culture.ru/events/777683/virtualnaya-vystavka-moskva-sergeya-esenina\n",
            "Error_img: 1122 link: https://www.culture.ru/poems/6809/da-procvetet-moskva-podobem-raiska-krina\n",
            "Error_img: 1123 link: https://www.culture.ru/live/broadcast/15728/o-sereznom-i-ne-ochen-kvartetnik-s-rusquartet-moskva\n",
            "Error_img: 1124 link: https://www.culture.ru/live/broadcast/6280/moskva-vesennyaya-lyubimye-pesni-i-melodii-proshlykh-let\n",
            "Error_img: 1125 link: https://www.culture.ru/live/broadcast/8921/predprezentaciya-novoi-knigi-moskva-gorod-pobeditel\n",
            "Error_img: 1126 link: https://www.culture.ru/news/52030/moskva-yuriya-trifonova-v-knigakh-i-v-gorodskikh-pereulkakh\n",
            "Error_img: 1127 link: https://www.culture.ru/news/254523/obyavleny-pobediteli-festivalya-moskva-teatr-shkola\n",
            "Error_img: 1128 link: https://www.culture.ru/news/254653/moskva-peredala-estafetu-teatralnogo-marafona-kaluge\n",
            "Error_img: 1129 link: https://www.culture.ru/news/256152/v-stolice-startoval-festival-moskva-vstrechaet-druzei\n",
            "Error_img: 1130 link: https://www.culture.ru/movies/525/moskva-amsterdam-anna-pavlovna-sankt-peterburg\n",
            "Error_img: 1131 link: https://www.culture.ru/movies/5994/kak-chitat-konstrukcii-gid-po-tomu-kak-ustroena-moskva\n",
            "Error_img: 1132 link: https://www.culture.ru/poems/17421/moskva-29-go-dekabrya-1821-goda\n",
            "Error_img: 1133 link: https://www.culture.ru/poems/41988/moskva-29-go-dekabrya-1821-goda\n",
            "Error_link: 1134 link: https://www.culture.ruhttps://culture.ru/s/vopros/msk-tretiy-rim\n",
            "Error_img: 1135 link: https://www.culture.ru/events/1016015/vystavka-zakat-dinastii-poslednie-ryurikovichi-lzhedmitrii\n",
            "Error_img: 1136 link: https://www.culture.ru/events/728226/ekspoziciya-zapadnoevropeiskoe-khudozhestvennoe-serebro-xiii-xix-vekov\n",
            "Error_link: 1137 link: https://www.culture.ruhttps://www.culture.ru/s/petr-chajkovskij/\n",
            "Error_img: 1138 link: https://www.culture.ru/news/253880/vystavka-matvei-kazakov-i-dopozharnaya-moskva-otkrylas-v-moskve\n",
            "Error_img: 1139 link: https://www.culture.ru/movies/4387/moskva-vesennyaya-lyubimye-pesni-i-melodii-proshlykh-let\n",
            "Error_link: 1140 link: https://www.culture.ruhttps://www.culture.ru/s/pisateli-i-moda/\n",
            "Error_link: 1141 link: https://www.culture.ruhttps://www.culture.ru/s/novaya-tretyakovka/\n",
            "Error_link: 1142 link: https://www.culture.ruhttps://www.culture.ru/s/ot-dyurera-do-matissa/\n",
            "Error_link: 1143 link: https://www.culture.ruhttps://www.culture.ru/s/zapiski-puteshestvennika/velikobritaniya/\n",
            "Error_link: 1144 link: https://www.culture.ruhttps://www.culture.ru/s/sergej-rahmaninov/\n",
            "Error_link: 1145 link: https://www.culture.ruhttps://www.culture.ru/s/moscow-week/\n",
            "Error_link: 1146 link: https://www.culture.ruhttps://www.culture.ru/s/azbuka_avangarda/\n",
            "Error_link: 1147 link: https://www.culture.ruhttps://www.culture.ru/s/peredvizhniki/\n",
            "Error_link: 1148 link: https://www.culture.ruhttps://www.culture.ru/s/moskovskij-modern/\n",
            "Error_link: 1149 link: https://www.culture.ruhttps://www.culture.ru/s/shchelkunchik/\n",
            "Error_link: 1150 link: https://www.culture.ruhttps://www.culture.ru/s/tretyakovgallery/\n",
            "Error_link: 1151 link: https://www.culture.ruhttps://www.culture.ru/s/zvuki-vo-vremeni/\n",
            "Error_img: 1152 link: https://www.culture.ru/materials/157696/ot-pitera-do-moskvy-dve-stolicy-v-russkoi-literature\n",
            "Error_link: 1153 link: https://www.culture.ruhttps://www.culture.ru/s/fabergemuseum/\n",
            "Error_img: 1154 link: https://www.culture.ru/news/255106/noch-iskusstv-2019-v-moskve-i-sankt-peterburge\n",
            "Error_link: 1155 link: https://www.culture.ruhttps://www.culture.ru/s/zapiski-puteshestvennika/italiya/\n",
            "Error_img: 1156 link: https://www.culture.ru/news/50628/v-provincii-luchshie\n",
            "Error_img: 1157 link: https://www.culture.ru/materials/256381/luchshie-spektakli-moskvy-po-proizvedeniyam-bulgakova\n",
            "Error_link: 1158 link: https://www.culture.ruhttps://culture.ru/s/vopros/tsvetnoy-bulvar\n",
            "Error_link: 1159 link: https://www.culture.ruhttp://culture.russtreaming.tilda.ws/page19452386.html\n",
            "Error_img: 1160 link: https://www.culture.ru/live/broadcast/6632/vserossiiskii-konkurs-molodykh-muzykantov-sozvezdie-torzhestvennaya-ceremoniya-otkrytiya\n",
            "Error_img: 1161 link: https://www.culture.ru/movies/3918/modest-musorgskii-boris-godunov\n",
            "Error_img: 1162 link: https://www.culture.ru/themes/254658/zapisi-koncertov-sozvezdiya\n",
            "Error_link: 1163 link: https://www.culture.ruhttps://www.culture.ru/s/streaming/\n",
            "Error_link: 1164 link: https://www.culture.ruhttps://www.culture.ru/s/serebryakova/\n",
            "Error_link: 1165 link: https://www.culture.ruhttps://www.culture.ru/s/mgu/\n",
            "Error_img: 1166 link: https://www.culture.ru/news/133262/den-goroda-moskvy\n",
            "Error_img: 1167 link: https://www.culture.ru/news/157457/novogodnie-prazdniki-v-moskve-i-oblasti\n",
            "Error_link: 1168 link: https://www.culture.ruhttps://www.culture.ru/s/zapiski-puteshestvennika/germaniya/\n",
            "Error_img: 1169 link: https://www.culture.ru/materials/256377/10-bulgakovskikh-adresov-v-moskve\n",
            "Error_link: 1170 link: https://www.culture.ruhttps://www.culture.ru/s/zolotaya-osen/\n",
            "Error_img: 1171 link: https://www.culture.ru/materials/52374/kinotvorcy-studii-imeni-gorkogo\n",
            "Error_img: 1172 link: https://www.culture.ru/materials/253829/antologiya-simfonicheskoi-muzyki\n",
            "Error_img: 1173 link: https://www.culture.ru/materials/253889/samye-interesnye-vystavki-dekabrya\n",
            "Error_img: 1174 link: https://www.culture.ru/materials/254038/vse-stolicy-rossii-ot-ladogi-do-moskvy\n",
            "Error_img: 1175 link: https://www.culture.ru/news/255374/zolotaya-maska-2020-otkryvaetsya-v-moskve-25-yanvarya\n",
            "Error_img: 1176 link: https://www.culture.ru/news/255930/samye-interesnye-vystavki-sentyabrya\n",
            "Error_img: 1177 link: https://www.culture.ru/movies/4096/rodionu-shedrinu-85\n",
            "Error_img: 1178 link: https://www.culture.ru/materials/255354/10-interesnykh-faktov-ob-mgu\n",
            "Error_link: 1179 link: https://www.culture.ruhttps://www.culture.ru/s/zapiski-puteshestvennika/ispaniya/\n",
            "Error_link: 1180 link: https://www.culture.ruhttps://www.culture.ru/s/zapiski-puteshestvennika/franciya/\n",
            "Error_img: 1181 link: https://www.culture.ru/persons/750/irina-muraveva\n",
            "Error_img: 1182 link: https://www.culture.ru/news/253912/kuda-skhodit-v-moskve-i-sankt-peterburge-15-i-16-dekabrya\n",
            "Error_img: 1183 link: https://www.culture.ru/news/253886/obyavleny-oficialnye-itogi-pervogo-vserossiiskogo-narodnogo-onlain-golosovaniya-moi-lyubimyi-muzei\n",
            "Error_img: 1184 link: https://www.culture.ru/news/253806/noch-iskusstv-2018-v-moskve-i-sankt-peterburge\n",
            "Error_img: 1185 link: https://www.culture.ru/materials/254696/7-redkikh-eksponatov-rossiiskogo-nacionalnogo-muzeya-muzyki\n",
            "Error_img: 1186 link: https://www.culture.ru/materials/254244/samye-interesnye-vystavki-marta\n",
            "Error_img: 1187 link: https://www.culture.ru/news/255311/novogodnie-kanikuly-v-moskve-i-sankt-peterburge\n",
            "Error_link: 1188 link: https://www.culture.ruhttps://www.culture.ru/s/vopros/14-fevralya\n",
            "Error_img: 1189 link: https://www.culture.ru/movies/4113/rodionu-shedrinu-85\n",
            "Error_img: 1190 link: https://www.culture.ru/news/256346/samye-interesnye-vystavki-aprelya\n",
            "Error_img: 1191 link: https://www.culture.ru/persons/9979/savva-morozov\n",
            "Error_link: 1192 link: https://www.culture.ruhttps://www.culture.ru/s/slovo-dnya/yuryev-den/\n",
            "Error_link: 1193 link: https://www.culture.ruhttps://www.culture.ru/s/ilya-repin/\n",
            "Error_link: 1194 link: https://www.culture.ruhttps://www.culture.ru/s/kulturnyj-striming/\n",
            "Error_img: 1195 link: https://www.culture.ru/materials/132132/moskovskie-starozhily-ili-kinoaktery-moskvichi\n",
            "Error_img: 1196 link: https://www.culture.ru/materials/254830/7-eksponatov-vystavki-ekspomuzyka\n",
            "Error_img: 1197 link: https://www.culture.ru/materials/254671/carskie-korony-starinnoe-oruzhie-i-ikony\n",
            "Error_img: 1198 link: https://www.culture.ru/materials/207241/pamyatniki-arkhitektury-ne-priznannye-sovremennikami\n",
            "Error_img: 1199 link: https://www.culture.ru/movies/3665/chas-den-vechnost-festival-k-175-letiyu-so-dnya-rozhdeniya-p-i-chaikovskogo-p-chaikovskii-pikovaya-dama-bso-vladimir-fedoseev\n",
            "Error_img: 1200 link: https://www.culture.ru/movies/3667/75-let-koncertnomu-zalu-imeni-p-i-chaikovskogo-pobediteli-estafeta-pokolenii-gala-koncert-laureatov-mezhdunarodnogo-konkursa-imeni-chaikovskogo\n",
            "Error_img: 1201 link: https://www.culture.ru/movies/3959/mezhdunarodnyi-den-muzyki-25-let-nacionalnoi-gazete-muzykalnoe-obozrenie-yubileinyi-koncert\n",
            "Error_img: 1202 link: https://www.culture.ru/news/182508/vsemirnyi-den-teatra-v-moskve-i-sankt-peterburge\n",
            "Error_img: 1203 link: https://www.culture.ru/materials/253724/glavnye-spektakli-oseni\n",
            "Error_img: 1204 link: https://www.culture.ru/materials/255174/carskie-podarki\n",
            "Error_img: 1205 link: https://www.culture.ru/materials/255190/znamenitye-rezhissery-pedagogi\n",
            "Error_img: 1206 link: https://www.culture.ru/materials/255599/obratnaya-storona-baleta\n",
            "Error_img: 1207 link: https://www.culture.ru/news/255584/teatralnye-translyacii\n",
            "Error_link: 1208 link: https://www.culture.ruhttp://culture.russtreaming.tilda.ws/page14524311.html\n",
            "Error_img: 1210 link: https://www.culture.ru/news/256474/glavnye-festivali-leta-v-moskve-i-sankt-peterburge\n",
            "Error_link: 1211 link: https://www.culture.ruhttps://culture.ru/s/vopros/nazvaniya-moskovskih-ulits\n",
            "Error_link: 1212 link: https://www.culture.ruhttps://www.culture.ru/s/slovo-dnya/krakelyur/\n"
          ],
          "name": "stdout"
        }
      ]
    },
    {
      "cell_type": "code",
      "metadata": {
        "id": "xcc6J9526nV6"
      },
      "source": [
        "for i in range(len(res)):\n",
        "    if res[i]['text'] is not None:\n",
        "        res[i]['text'] = res[i]['text'].text"
      ],
      "execution_count": 32,
      "outputs": []
    },
    {
      "cell_type": "code",
      "metadata": {
        "colab": {
          "base_uri": "https://localhost:8080/"
        },
        "id": "MbQV0G-NMNnW",
        "outputId": "fe3ed5ad-3beb-4ba2-9f6e-fd089e3445a9"
      },
      "source": [
        "from google.colab import drive\n",
        "drive.mount('/content/MyDrive/')"
      ],
      "execution_count": 33,
      "outputs": [
        {
          "output_type": "stream",
          "text": [
            "Drive already mounted at /content/MyDrive/; to attempt to forcibly remount, call drive.mount(\"/content/MyDrive/\", force_remount=True).\n"
          ],
          "name": "stdout"
        }
      ]
    },
    {
      "cell_type": "code",
      "metadata": {
        "id": "EI3LyJSWoIDg"
      },
      "source": [
        "import json\n",
        "with open('MyDrive/MyDrive/pro_culture.json', 'w') as f:\n",
        "    json.dump(res, f)"
      ],
      "execution_count": 34,
      "outputs": []
    }
  ]
}