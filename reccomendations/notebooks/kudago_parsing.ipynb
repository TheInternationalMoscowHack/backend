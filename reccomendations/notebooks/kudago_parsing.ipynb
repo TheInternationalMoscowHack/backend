{
  "nbformat": 4,
  "nbformat_minor": 0,
  "metadata": {
    "colab": {
      "name": "kudago_parsing.ipynb",
      "provenance": []
    },
    "kernelspec": {
      "display_name": "Python 3",
      "name": "python3"
    },
    "language_info": {
      "name": "python"
    }
  },
  "cells": [
    {
      "cell_type": "code",
      "metadata": {
        "id": "RCy8ZlL_6buX"
      },
      "source": [
        "import requests\n",
        "from datetime import datetime as dt\n",
        "import pandas as pd\n"
      ],
      "execution_count": 1,
      "outputs": []
    },
    {
      "cell_type": "code",
      "metadata": {
        "id": "1C0Ge-yH6_Ai"
      },
      "source": [
        "fields = \"tagline,site_url,participants,images,location,title,short_title,body_text,categories,price,is_free,tags,age_restriction\"\n",
        "page_size = 100\n",
        "today = int(dt.today().timestamp())\n"
      ],
      "execution_count": 2,
      "outputs": []
    },
    {
      "cell_type": "code",
      "metadata": {
        "id": "HwFPnvV--PMO"
      },
      "source": [
        "link = \"http://kudago.com/public-api/v1.3/events/?location=msk&actual_since={}&page_size={}&fields={}\".format(today, page_size, fields)\n",
        "def read_data(link):\n",
        "    r = requests.get(link)\n",
        "    df = pd.DataFrame(r.json()['results'])\n",
        "    if r.json()['next'] != None:\n",
        "        df = pd.concat([df, read_data(r.json()['next'])])\n",
        "    return df\n",
        "\n",
        "\n",
        "res = read_data(link)"
      ],
      "execution_count": 3,
      "outputs": []
    },
    {
      "cell_type": "code",
      "metadata": {
        "id": "SPEPafMF26bG",
        "colab": {
          "base_uri": "https://localhost:8080/",
          "height": 574
        },
        "outputId": "213e1ee6-958d-41f9-a97a-bbbff01403ad"
      },
      "source": [
        "res.head()"
      ],
      "execution_count": 4,
      "outputs": [
        {
          "output_type": "execute_result",
          "data": {
            "text/html": [
              "<div>\n",
              "<style scoped>\n",
              "    .dataframe tbody tr th:only-of-type {\n",
              "        vertical-align: middle;\n",
              "    }\n",
              "\n",
              "    .dataframe tbody tr th {\n",
              "        vertical-align: top;\n",
              "    }\n",
              "\n",
              "    .dataframe thead th {\n",
              "        text-align: right;\n",
              "    }\n",
              "</style>\n",
              "<table border=\"1\" class=\"dataframe\">\n",
              "  <thead>\n",
              "    <tr style=\"text-align: right;\">\n",
              "      <th></th>\n",
              "      <th>title</th>\n",
              "      <th>body_text</th>\n",
              "      <th>location</th>\n",
              "      <th>categories</th>\n",
              "      <th>tagline</th>\n",
              "      <th>age_restriction</th>\n",
              "      <th>price</th>\n",
              "      <th>is_free</th>\n",
              "      <th>images</th>\n",
              "      <th>site_url</th>\n",
              "      <th>short_title</th>\n",
              "      <th>tags</th>\n",
              "      <th>participants</th>\n",
              "    </tr>\n",
              "  </thead>\n",
              "  <tbody>\n",
              "    <tr>\n",
              "      <th>0</th>\n",
              "      <td>иммерсивное шоу «Зеркало Карлоса Сантоса»</td>\n",
              "      <td>&lt;p&gt;Спектакль по пьесе Максима Курочкина, лауре...</td>\n",
              "      <td>{'slug': 'msk'}</td>\n",
              "      <td>[theater, entertainment]</td>\n",
              "      <td></td>\n",
              "      <td>18+</td>\n",
              "      <td>от 5000 до 6000 рублей</td>\n",
              "      <td>False</td>\n",
              "      <td>[{'image': 'https://kudago.com/media/images/ev...</td>\n",
              "      <td>https://kudago.com/msk/event/teatr-zerkalo-kar...</td>\n",
              "      <td>Зеркало Карлоса Сантоса</td>\n",
              "      <td>[премьеры, лучшее в театрах, интересное, развл...</td>\n",
              "      <td>[]</td>\n",
              "    </tr>\n",
              "    <tr>\n",
              "      <th>1</th>\n",
              "      <td>спектакль «Ракеты взлетают и разбиваются рассы...</td>\n",
              "      <td>&lt;p&gt;Проект от победителей резиденции BlackBox 1...</td>\n",
              "      <td>{'slug': 'msk'}</td>\n",
              "      <td>[theater]</td>\n",
              "      <td></td>\n",
              "      <td>18+</td>\n",
              "      <td>от 1100 рублей</td>\n",
              "      <td>False</td>\n",
              "      <td>[{'image': 'https://kudago.com/media/images/ev...</td>\n",
              "      <td>https://kudago.com/msk/event/teatr-raketyi-vzl...</td>\n",
              "      <td>Ракеты взлетают и разбиваются рассыпаются в во...</td>\n",
              "      <td>[современная драматургия, премьеры, эксперимен...</td>\n",
              "      <td>[{'role': {'slug': 'director'}, 'agent': {'id'...</td>\n",
              "    </tr>\n",
              "    <tr>\n",
              "      <th>2</th>\n",
              "      <td>Лучшие летние концерты и музыкальные фестивали...</td>\n",
              "      <td></td>\n",
              "      <td>{'slug': 'msk'}</td>\n",
              "      <td>[party, concert, festival, entertainment]</td>\n",
              "      <td></td>\n",
              "      <td>18+</td>\n",
              "      <td></td>\n",
              "      <td>False</td>\n",
              "      <td>[{'image': 'https://kudago.com/media/images/ev...</td>\n",
              "      <td>https://kudago.com/msk/event/kontsert-luchshie...</td>\n",
              "      <td>Лучшие летние концерты и музыкальные фестивали...</td>\n",
              "      <td>[панк, рэп и хип-хоп, альтернатива, r&amp;b, элект...</td>\n",
              "      <td>[]</td>\n",
              "    </tr>\n",
              "    <tr>\n",
              "      <th>3</th>\n",
              "      <td>спектакль «Макс Блэк, или 62 способа подпереть...</td>\n",
              "      <td>&lt;p&gt;Хайнер Гёббельс — один из самых своеобычных...</td>\n",
              "      <td>{'slug': 'msk'}</td>\n",
              "      <td>[theater]</td>\n",
              "      <td>Сценическая алхимия от Хайнера Гёббельса</td>\n",
              "      <td>16+</td>\n",
              "      <td>от 500 до 2100 рублей</td>\n",
              "      <td>False</td>\n",
              "      <td>[{'image': 'https://kudago.com/media/images/ev...</td>\n",
              "      <td>https://kudago.com/msk/event/spektakl-maks-ble...</td>\n",
              "      <td>Макс Блэк, или 62 способа подпереть голову рукой</td>\n",
              "      <td>[современная драматургия, лучшее в театрах, эк...</td>\n",
              "      <td>[{'role': {'slug': 'actors'}, 'agent': {'id': ...</td>\n",
              "    </tr>\n",
              "    <tr>\n",
              "      <th>4</th>\n",
              "      <td>тур по барам Москвы от City Pub Crawl</td>\n",
              "      <td>&lt;p&gt;Вечеринки с последовательным путешествием п...</td>\n",
              "      <td>{'slug': 'msk'}</td>\n",
              "      <td>[party, entertainment]</td>\n",
              "      <td></td>\n",
              "      <td>18+</td>\n",
              "      <td>от 1500 до 2000 рублей</td>\n",
              "      <td>False</td>\n",
              "      <td>[{'image': 'https://kudago.com/media/images/ev...</td>\n",
              "      <td>https://kudago.com/msk/event/vecherinka-tur-po...</td>\n",
              "      <td>Тур по барам Москвы от City Pub Crawl</td>\n",
              "      <td>[потанцевать, развлечения, с друзьями, новое н...</td>\n",
              "      <td>[]</td>\n",
              "    </tr>\n",
              "  </tbody>\n",
              "</table>\n",
              "</div>"
            ],
            "text/plain": [
              "                                               title  ...                                       participants\n",
              "0          иммерсивное шоу «Зеркало Карлоса Сантоса»  ...                                                 []\n",
              "1  спектакль «Ракеты взлетают и разбиваются рассы...  ...  [{'role': {'slug': 'director'}, 'agent': {'id'...\n",
              "2  Лучшие летние концерты и музыкальные фестивали...  ...                                                 []\n",
              "3  спектакль «Макс Блэк, или 62 способа подпереть...  ...  [{'role': {'slug': 'actors'}, 'agent': {'id': ...\n",
              "4              тур по барам Москвы от City Pub Crawl  ...                                                 []\n",
              "\n",
              "[5 rows x 13 columns]"
            ]
          },
          "metadata": {
            "tags": []
          },
          "execution_count": 4
        }
      ]
    },
    {
      "cell_type": "code",
      "metadata": {
        "id": "cfxedhUtMQjs",
        "colab": {
          "base_uri": "https://localhost:8080/"
        },
        "outputId": "c57a396d-1c2b-4437-9040-05f2f1b005a3"
      },
      "source": [
        "res.body_text"
      ],
      "execution_count": 5,
      "outputs": [
        {
          "output_type": "execute_result",
          "data": {
            "text/plain": [
              "0    <p>Спектакль по пьесе Максима Курочкина, лауре...\n",
              "1    <p>Проект от победителей резиденции BlackBox 1...\n",
              "2                                                     \n",
              "3    <p>Хайнер Гёббельс — один из самых своеобычных...\n",
              "4    <p>Вечеринки с последовательным путешествием п...\n",
              "                           ...                        \n",
              "3    <p>Искусство Северной Азии представлено творче...\n",
              "4    <p>Произведения, которые входят в экспозицию, ...\n",
              "5    <p>В шестом и седьмом залах <a href=\"http://ku...\n",
              "6    <p>Богатейший музейный фонд насчитывает около ...\n",
              "7    <p>Мир волшебных историй о Гарри Поттере вдохн...\n",
              "Name: body_text, Length: 1508, dtype: object"
            ]
          },
          "metadata": {
            "tags": []
          },
          "execution_count": 5
        }
      ]
    },
    {
      "cell_type": "code",
      "metadata": {
        "colab": {
          "base_uri": "https://localhost:8080/"
        },
        "id": "HmTrXm3gqsNH",
        "outputId": "75233b50-2816-4335-f719-6336127e4bc7"
      },
      "source": [
        "from google.colab import drive\n",
        "drive.mount('/content/MyDrive/')"
      ],
      "execution_count": 6,
      "outputs": [
        {
          "output_type": "stream",
          "text": [
            "Mounted at /content/MyDrive/\n"
          ],
          "name": "stdout"
        }
      ]
    },
    {
      "cell_type": "code",
      "metadata": {
        "id": "e8Ku13wpqvTM"
      },
      "source": [
        "import json\n",
        "res.to_csv('MyDrive/MyDrive/kudago.csv', index=False)"
      ],
      "execution_count": 11,
      "outputs": []
    },
    {
      "cell_type": "code",
      "metadata": {
        "id": "QchipAeOrEls"
      },
      "source": [
        ""
      ],
      "execution_count": null,
      "outputs": []
    }
  ]
}